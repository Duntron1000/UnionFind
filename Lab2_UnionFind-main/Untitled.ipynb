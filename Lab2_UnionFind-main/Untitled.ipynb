{
 "cells": [
  {
   "cell_type": "code",
   "execution_count": 44,
   "id": "fc2fa993",
   "metadata": {},
   "outputs": [
    {
     "name": "stdout",
     "output_type": "stream",
     "text": [
      "The autoreload extension is already loaded. To reload it, use:\n",
      "  %reload_ext autoreload\n"
     ]
    }
   ],
   "source": [
    "%load_ext autoreload\n",
    "%autoreload 2\n",
    "from unionrankpc import *"
   ]
  },
  {
   "cell_type": "code",
   "execution_count": 47,
   "id": "50342662",
   "metadata": {},
   "outputs": [
    {
     "name": "stdout",
     "output_type": "stream",
     "text": [
      "index:  [0, 1, 2, 3, 4, 5, 6, 7, 8, 9]\n",
      "parent: [6, 1, 0, 3, 0, 5, 6, 6, 8, 9]\n",
      "rank:   [1, 0, 0, 0, 0, 0, 2, 0, 0, 0]\n"
     ]
    }
   ],
   "source": [
    "u = UnionFind(10)\n",
    "print(f'index:  {u.parent}')\n",
    "u.union(0,2)\n",
    "u.union(4,2)\n",
    "u.union(6,7)\n",
    "u.union(7,0)\n",
    "print(f'parent: {u.parent}')\n",
    "print(f'rank:   {u.rank}')\n",
    " \n"
   ]
  },
  {
   "cell_type": "code",
   "execution_count": null,
   "id": "77a3028e",
   "metadata": {},
   "outputs": [],
   "source": []
  }
 ],
 "metadata": {
  "kernelspec": {
   "display_name": "Python 3 (ipykernel)",
   "language": "python",
   "name": "python3"
  },
  "language_info": {
   "codemirror_mode": {
    "name": "ipython",
    "version": 3
   },
   "file_extension": ".py",
   "mimetype": "text/x-python",
   "name": "python",
   "nbconvert_exporter": "python",
   "pygments_lexer": "ipython3",
   "version": "3.11.4"
  }
 },
 "nbformat": 4,
 "nbformat_minor": 5
}
